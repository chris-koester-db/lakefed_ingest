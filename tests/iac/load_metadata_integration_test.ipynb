{
 "cells": [
  {
   "cell_type": "code",
   "execution_count": 0,
   "metadata": {
    "application/vnd.databricks.v1+cell": {
     "cellMetadata": {
      "byteLimit": 2048000,
      "rowLimit": 10000
     },
     "inputWidgets": {},
     "nuid": "5cad679c-438b-42bc-ac57-7d7536687768",
     "showTitle": true,
     "tableResultSettingsMap": {},
     "title": "Create Metadata"
    }
   },
   "outputs": [],
   "source": [
    "use catalog identifier(:catalog);\n",
    "use schema identifier(:schema);\n",
    "\n",
    "create or replace temporary view control_src as\n",
    "select\n",
    "  'lakefed_ingest' as job_name,\n",
    "  'sf_1000_liquid' as task_collection,\n",
    "  'delta' as src_type,\n",
    "  table_catalog as src_catalog,\n",
    "  table_schema as src_schema,\n",
    "  table_name as src_table,\n",
    "  'lakefed_ingest' as sink_catalog,\n",
    "  'tpcds_sf1000' as sink_schema,\n",
    "  table_name as sink_table,\n",
    "  null as sink_cluster_cols,\n",
    "  'full' as load_type,\n",
    "  false as load_partitioned,\n",
    "  '*' as select_list,\n",
    "  null as watermark_col_name,\n",
    "  null as watermark_col_type,\n",
    "  null as watermark_col_start_value,\n",
    "  null as partition_col,\n",
    "  null as partition_size_mb,\n",
    "  true as task_enabled\n",
    "from tpcds.information_schema.tables\n",
    "where table_schema = 'sf_1000_liquid'\n",
    "  and table_catalog = 'tpcds';"
   ]
  },
  {
   "cell_type": "code",
   "execution_count": 0,
   "metadata": {
    "application/vnd.databricks.v1+cell": {
     "cellMetadata": {
      "byteLimit": 2048000,
      "rowLimit": 10000
     },
     "inputWidgets": {},
     "nuid": "112619cb-e6bb-4764-866b-fc4826916207",
     "showTitle": true,
     "tableResultSettingsMap": {},
     "title": "Merge Metadata"
    }
   },
   "outputs": [],
   "source": [
    "merge with schema evolution into identifier(:table) as t\n",
    "using control_src as s\n",
    "on t.src_catalog = s.src_catalog\n",
    "and t.src_schema = s.src_schema\n",
    "and t.src_table = s.src_table\n",
    "when matched\n",
    "  then update set *\n",
    "when not matched\n",
    "  then insert *"
   ]
  },
  {
   "cell_type": "code",
   "execution_count": 0,
   "metadata": {
    "application/vnd.databricks.v1+cell": {
     "cellMetadata": {
      "byteLimit": 2048000,
      "rowLimit": 10000
     },
     "inputWidgets": {},
     "nuid": "fc5bb58d-34f6-4f0e-beb5-36a8452d4f20",
     "showTitle": true,
     "tableResultSettingsMap": {},
     "title": "Update Metadata"
    }
   },
   "outputs": [],
   "source": [
    "-- Set store_sales to partitioned ingest\n",
    "update identifier(:table)\n",
    "set \n",
    "  task_collection = 'store_sales',\n",
    "  sink_cluster_cols = array('ss_sold_date_sk'),\n",
    "  load_partitioned = true,\n",
    "  partition_col = 'ss_sold_date_sk',\n",
    "  partition_size_mb = 256\n",
    "where\n",
    "  sink_catalog = 'lakefed_ingest'\n",
    "  and sink_schema = 'tpcds_sf1000'\n",
    "  and sink_table = 'store_sales'"
   ]
  }
 ],
 "metadata": {
  "application/vnd.databricks.v1+notebook": {
   "computePreferences": null,
   "dashboards": [],
   "environmentMetadata": null,
   "inputWidgetPreferences": null,
   "language": "sql",
   "notebookMetadata": {},
   "notebookName": "config_metadata_tpcds",
   "widgets": {
    "catalog": {
     "currentValue": "lakefed_ingest",
     "nuid": "afad7900-cc45-4ad9-af7e-f6e4631270b4",
     "typedWidgetInfo": {
      "autoCreated": false,
      "defaultValue": "lakefed_ingest",
      "label": "",
      "name": "catalog",
      "options": {
       "validationRegex": null,
       "widgetDisplayType": "Text"
      },
      "parameterDataType": "String"
     },
     "widgetInfo": {
      "defaultValue": "lakefed_ingest",
      "label": "",
      "name": "catalog",
      "options": {
       "autoCreated": false,
       "validationRegex": null,
       "widgetType": "text"
      },
      "widgetType": "text"
     }
    },
    "schema": {
     "currentValue": "default",
     "nuid": "56b300ff-0480-44b2-85f1-e4d722e21ffe",
     "typedWidgetInfo": {
      "autoCreated": false,
      "defaultValue": "default",
      "label": "",
      "name": "schema",
      "options": {
       "validationRegex": null,
       "widgetDisplayType": "Text"
      },
      "parameterDataType": "String"
     },
     "widgetInfo": {
      "defaultValue": "default",
      "label": "",
      "name": "schema",
      "options": {
       "autoCreated": false,
       "validationRegex": null,
       "widgetType": "text"
      },
      "widgetType": "text"
     }
    },
    "table": {
     "currentValue": "control",
     "nuid": "4c818e34-b32e-48f2-b6de-bb9c82d3839d",
     "typedWidgetInfo": {
      "autoCreated": false,
      "defaultValue": "control",
      "label": "",
      "name": "table",
      "options": {
       "validationRegex": null,
       "widgetDisplayType": "Text"
      },
      "parameterDataType": "String"
     },
     "widgetInfo": {
      "defaultValue": "control",
      "label": "",
      "name": "table",
      "options": {
       "autoCreated": false,
       "validationRegex": null,
       "widgetType": "text"
      },
      "widgetType": "text"
     }
    }
   }
  },
  "language_info": {
   "name": "sql"
  }
 },
 "nbformat": 4,
 "nbformat_minor": 0
}
