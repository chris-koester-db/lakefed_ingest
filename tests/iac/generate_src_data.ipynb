{
 "cells": [
  {
   "cell_type": "markdown",
   "metadata": {
    "application/vnd.databricks.v1+cell": {
     "cellMetadata": {},
     "inputWidgets": {},
     "nuid": "22e55cfc-4cba-4e95-9b45-fa6557364216",
     "showTitle": false,
     "tableResultSettingsMap": {},
     "title": ""
    }
   },
   "source": [
    "## Create Synthetic Source Data\n",
    "Create source table containing synthetic data. The data can then be written to an external database for testing the partitioned ingest job."
   ]
  },
  {
   "cell_type": "code",
   "execution_count": 0,
   "metadata": {
    "application/vnd.databricks.v1+cell": {
     "cellMetadata": {},
     "inputWidgets": {},
     "nuid": "23cdbf89-8b33-481e-a8ab-c5be8b5fc502",
     "showTitle": false,
     "tableResultSettingsMap": {},
     "title": ""
    }
   },
   "outputs": [],
   "source": [
    "import dbldatagen as dg\n",
    "import pyspark.sql.functions as F\n",
    "\n",
    "# https://databrickslabs.github.io/dbldatagen/public_docs/generating_cdc_data.html\n",
    "\n",
    "def create_dataspec(row_count, partitions):\n",
    "    \n",
    "    spark.conf.set(\"spark.sql.shuffle.partitions\", \"auto\")\n",
    "    \n",
    "    dataspec = (\n",
    "        dg.DataGenerator(spark, rows=row_count, partitions=partitions)\n",
    "          .withColumn(\"customer_id\",\"long\", uniqueValues=row_count)\n",
    "          .withColumn(\"name\", percentNulls=0.01, template=r'\\\\w \\\\w|\\\\w a. \\\\w')\n",
    "          .withColumn(\"alias\", percentNulls=0.01, template=r'\\\\w \\\\w|\\\\w a. \\\\w')\n",
    "          .withColumn(\"payment_instrument_type\", values=['paypal', 'Visa', 'Mastercard',\n",
    "                      'American Express', 'discover', 'branded visa', 'branded mastercard'],\n",
    "                      random=True, distribution=\"normal\")\n",
    "          .withColumn(\"int_payment_instrument\", \"int\",  minValue=0000, maxValue=9999,\n",
    "                      baseColumn=\"customer_id\", baseColumnType=\"hash\", omit=True)\n",
    "          .withColumn(\"payment_instrument\",\n",
    "                      expr=\"format_number(int_payment_instrument, '**** ****** *####')\",\n",
    "                      baseColumn=\"int_payment_instrument\")\n",
    "          .withColumn(\"email\", template=r'\\\\w.\\\\w@\\\\w.com|\\\\w-\\\\w@\\\\w')\n",
    "          .withColumn(\"email2\", template=r'\\\\w.\\\\w@\\\\w.com')\n",
    "          .withColumn(\"ip_address\", template=r'\\\\n.\\\\n.\\\\n.\\\\n')\n",
    "          .withColumn(\"md5_payment_instrument\",\n",
    "                      expr=\"md5(concat(payment_instrument_type, ':', payment_instrument))\",\n",
    "                      base_column=['payment_instrument_type', 'payment_instrument'])\n",
    "          .withColumn(\"created_ts\", \"timestamp\", expr=\"now()\")\n",
    "          .withColumn(\"modified_ts\", \"timestamp\", expr=\"now()\")\n",
    "          .withColumn(\"memo\", expr=\"'original data'\")\n",
    "          .withColumn(\n",
    "              \"ts_col\",\n",
    "              \"timestamp\",\n",
    "              data_range=dg.DateRange(\"2023-01-01 00:00:00\", \"2023-12-31 11:55:00\", \"seconds=8\"),\n",
    "              baseColumn=\"customer_id\",\n",
    "          )\n",
    "          .withColumn(\n",
    "              \"date_col\",\n",
    "              \"date\",\n",
    "              expr=\"cast(ts_col as date)\",\n",
    "              baseColumn=\"customer_id\",\n",
    "          )\n",
    "      )\n",
    "    \n",
    "    return dataspec"
   ]
  },
  {
   "cell_type": "code",
   "execution_count": 0,
   "metadata": {
    "application/vnd.databricks.v1+cell": {
     "cellMetadata": {},
     "inputWidgets": {},
     "nuid": "3cadf699-6cb2-4439-a1da-5b00e1d91377",
     "showTitle": false,
     "tableResultSettingsMap": {},
     "title": ""
    }
   },
   "outputs": [],
   "source": [
    "catalog = dbutils.widgets.get('catalog')\n",
    "schema = dbutils.widgets.get('schema')\n",
    "src_table = dbutils.widgets.get('src_table')\n",
    "\n",
    "spark.sql(f'use catalog {catalog}')\n",
    "spark.sql(f'create schema if not exists {schema}')\n",
    "\n",
    "# Set partitions to 1x or 2x number of cores\n",
    "dataspec = create_dataspec(row_count=25_000_000, partitions=32)\n",
    "df = dataspec.build()\n",
    "df.writeTo(f\"{catalog}.{schema}.{src_table}\").using(\"delta\").clusterBy(\"customer_id\").createOrReplace()"
   ]
  },
  {
   "cell_type": "code",
   "execution_count": 0,
   "metadata": {
    "application/vnd.databricks.v1+cell": {
     "cellMetadata": {},
     "inputWidgets": {},
     "nuid": "8b2dfc6f-f026-4cbe-a909-3208df2941ea",
     "showTitle": false,
     "tableResultSettingsMap": {},
     "title": ""
    }
   },
   "outputs": [],
   "source": [
    "display(spark.sql(f'optimize {catalog}.{schema}.{src_table}'))"
   ]
  }
 ],
 "metadata": {
  "application/vnd.databricks.v1+notebook": {
   "computePreferences": null,
   "dashboards": [],
   "environmentMetadata": null,
   "inputWidgetPreferences": null,
   "language": "python",
   "notebookMetadata": {
    "pythonIndentUnit": 2
   },
   "notebookName": "generate_src_data_notebook",
   "widgets": {
    "catalog": {
     "currentValue": "lakefed_ingest",
     "nuid": "66c17bd1-6656-4722-80a9-bd5cde626287",
     "typedWidgetInfo": {
      "autoCreated": false,
      "defaultValue": "lakefed_ingest",
      "label": "01 Catalog",
      "name": "catalog",
      "options": {
       "validationRegex": null,
       "widgetDisplayType": "Text"
      },
      "parameterDataType": "String"
     },
     "widgetInfo": {
      "defaultValue": "lakefed_ingest",
      "label": "01 Catalog",
      "name": "catalog",
      "options": {
       "autoCreated": false,
       "validationRegex": null,
       "widgetType": "text"
      },
      "widgetType": "text"
     }
    },
    "partitions": {
     "currentValue": "32",
     "nuid": "0d797397-73ca-4ac8-85e8-76835ca80968",
     "typedWidgetInfo": {
      "autoCreated": false,
      "defaultValue": "32",
      "label": "05 Partitions",
      "name": "partitions",
      "options": {
       "validationRegex": null,
       "widgetDisplayType": "Text"
      },
      "parameterDataType": "String"
     },
     "widgetInfo": {
      "defaultValue": "32",
      "label": "05 Partitions",
      "name": "partitions",
      "options": {
       "autoCreated": false,
       "validationRegex": null,
       "widgetType": "text"
      },
      "widgetType": "text"
     }
    },
    "row_count": {
     "currentValue": "25000000",
     "nuid": "a60021fe-e3be-4086-8292-d874d9ac2589",
     "typedWidgetInfo": {
      "autoCreated": false,
      "defaultValue": "25000000",
      "label": "04 Row Count",
      "name": "row_count",
      "options": {
       "validationRegex": null,
       "widgetDisplayType": "Text"
      },
      "parameterDataType": "String"
     },
     "widgetInfo": {
      "defaultValue": "25000000",
      "label": "04 Row Count",
      "name": "row_count",
      "options": {
       "autoCreated": false,
       "validationRegex": null,
       "widgetType": "text"
      },
      "widgetType": "text"
     }
    },
    "schema": {
     "currentValue": "default",
     "nuid": "95350695-975a-400d-8332-e34b822ff731",
     "typedWidgetInfo": {
      "autoCreated": false,
      "defaultValue": "default",
      "label": "02 Schema",
      "name": "schema",
      "options": {
       "validationRegex": null,
       "widgetDisplayType": "Text"
      },
      "parameterDataType": "String"
     },
     "widgetInfo": {
      "defaultValue": "default",
      "label": "02 Schema",
      "name": "schema",
      "options": {
       "autoCreated": false,
       "validationRegex": null,
       "widgetType": "text"
      },
      "widgetType": "text"
     }
    },
    "src_table": {
     "currentValue": "lakefed_src",
     "nuid": "078e7ca6-0752-4818-997c-c13ab5fac3d3",
     "typedWidgetInfo": {
      "autoCreated": false,
      "defaultValue": "lakefed_src",
      "label": "03 Source Table",
      "name": "src_table",
      "options": {
       "validationRegex": null,
       "widgetDisplayType": "Text"
      },
      "parameterDataType": "String"
     },
     "widgetInfo": {
      "defaultValue": "lakefed_src",
      "label": "03 Source Table",
      "name": "src_table",
      "options": {
       "autoCreated": false,
       "validationRegex": null,
       "widgetType": "text"
      },
      "widgetType": "text"
     }
    }
   }
  },
  "language_info": {
   "name": "python"
  }
 },
 "nbformat": 4,
 "nbformat_minor": 0
}
