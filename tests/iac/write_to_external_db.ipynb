{
 "cells": [
  {
   "cell_type": "markdown",
   "metadata": {
    "application/vnd.databricks.v1+cell": {
     "cellMetadata": {},
     "inputWidgets": {},
     "nuid": "52629760-64c2-4cfb-b46c-b140471e9096",
     "showTitle": false,
     "tableResultSettingsMap": {},
     "title": ""
    }
   },
   "source": [
    "## Write to External Database\n",
    "This notebook can be used to write data to an external database for testing the bulk ingest solution. See the [write data with JDBC](https://learn.microsoft.com/en-us/azure/databricks/connect/external-systems/jdbc#write-data-with-jdbc) doc for more details.\n",
    "\n",
    "Databricks recommends using [secrets](https://learn.microsoft.com/en-us/azure/databricks/security/secrets/) to store your database credentials."
   ]
  },
  {
   "cell_type": "code",
   "execution_count": 0,
   "metadata": {
    "application/vnd.databricks.v1+cell": {
     "cellMetadata": {},
     "inputWidgets": {},
     "nuid": "a50bd181-c1f6-4bdd-bdd4-5fea68984539",
     "showTitle": true,
     "tableResultSettingsMap": {},
     "title": "Config"
    }
   },
   "outputs": [],
   "source": [
    "catalog = dbutils.widgets.get('catalog')\n",
    "schema = dbutils.widgets.get('schema')\n",
    "src_table = dbutils.widgets.get('src_table')\n",
    "host = dbutils.widgets.get('host')\n",
    "secret_scope_name = dbutils.widgets.get('secret_scope_name')\n",
    "\n",
    "jdbc_url = f'jdbc:postgresql://{host}:5432/postgres?sslmode=require'\n",
    "\n",
    "username = dbutils.secrets.get(scope = secret_scope_name, key = \"jdbc_user\")\n",
    "password = dbutils.secrets.get(scope = secret_scope_name, key = \"jdbc_pwd\")"
   ]
  },
  {
   "cell_type": "code",
   "execution_count": 0,
   "metadata": {
    "application/vnd.databricks.v1+cell": {
     "cellMetadata": {},
     "inputWidgets": {},
     "nuid": "1b9b79c1-3040-43bf-9859-e50e99376ac1",
     "showTitle": true,
     "tableResultSettingsMap": {},
     "title": "Get Data"
    }
   },
   "outputs": [],
   "source": [
    "df = spark.read.table(f'{catalog}.{schema}.{src_table}')"
   ]
  },
  {
   "cell_type": "code",
   "execution_count": 0,
   "metadata": {
    "application/vnd.databricks.v1+cell": {
     "cellMetadata": {},
     "inputWidgets": {},
     "nuid": "084efd7a-20a4-4b63-8d2c-054d4d6cf2cf",
     "showTitle": true,
     "tableResultSettingsMap": {},
     "title": "Write using JDBC"
    }
   },
   "outputs": [],
   "source": [
    "(\n",
    "    df.write.format(\"jdbc\")\n",
    "    .option(\"url\", jdbc_url)\n",
    "    .option(\"dbtable\", \"lakefed_src\")\n",
    "    .option(\"user\", username)\n",
    "    .option(\"password\", password)\n",
    "    .mode(\"overwrite\")\n",
    "    .save()\n",
    ")"
   ]
  },
  {
   "cell_type": "code",
   "execution_count": 0,
   "metadata": {
    "application/vnd.databricks.v1+cell": {
     "cellMetadata": {},
     "inputWidgets": {},
     "nuid": "b4a77f48-0ec6-4047-8491-38dc627e7bbd",
     "showTitle": false,
     "tableResultSettingsMap": {},
     "title": ""
    }
   },
   "outputs": [],
   "source": [
    "import subprocess\n",
    "\n",
    "# Create a view in PostgreSQL that returns the size of a table\n",
    "env = {'PGPASSWORD': password}\n",
    "qry = f\"\"\"\\\n",
    "    create or replace view public.vw_pg_table_size\n",
    "     as\n",
    "     select\n",
    "      table_schema,\n",
    "      table_name,\n",
    "      pg_table_size(quote_ident(table_name)),\n",
    "      pg_size_pretty(pg_table_size(quote_ident(table_name))) as pg_table_size_pretty\n",
    "    from information_schema.tables\n",
    "    where table_schema not in ('pg_catalog', 'information_schema')\n",
    "    and table_type = 'BASE TABLE';\n",
    "\"\"\"\n",
    "cmd = f'--command={qry}'\n",
    "subprocess.run(['psql', f'--host={host}', '--port=5432', '--dbname=postgres', f'--username={username}', '--set=sslmode=require', cmd], env=env, capture_output=True)"
   ]
  },
  {
   "cell_type": "markdown",
   "metadata": {
    "application/vnd.databricks.v1+cell": {
     "cellMetadata": {},
     "inputWidgets": {},
     "nuid": "18a83385-45e3-4450-8b3c-7d16948807fa",
     "showTitle": false,
     "tableResultSettingsMap": {},
     "title": ""
    }
   },
   "source": [
    "## Connect to External Database using Lakehouse Federation\n",
    "Follow the [documentation](https://learn.microsoft.com/en-us/azure/databricks/query-federation/) to create a connection and foreign catalog."
   ]
  }
 ],
 "metadata": {
  "application/vnd.databricks.v1+notebook": {
   "computePreferences": null,
   "dashboards": [],
   "environmentMetadata": null,
   "inputWidgetPreferences": null,
   "language": "python",
   "notebookMetadata": {
    "pythonIndentUnit": 2
   },
   "notebookName": "write_to_external_db",
   "widgets": {
    "catalog": {
     "currentValue": "lakefed_ingest_src",
     "nuid": "1e5f4e02-f498-410c-a646-43151b0d42d3",
     "typedWidgetInfo": {
      "autoCreated": false,
      "defaultValue": "lakefed_ingest_src",
      "label": "01 Catalog",
      "name": "catalog",
      "options": {
       "widgetDisplayType": "Text",
       "validationRegex": null
      },
      "parameterDataType": "String"
     },
     "widgetInfo": {
      "widgetType": "text",
      "defaultValue": "lakefed_ingest_src",
      "label": "01 Catalog",
      "name": "catalog",
      "options": {
       "widgetType": "text",
       "autoCreated": false,
       "validationRegex": null
      }
     }
    },
    "host": {
     "currentValue": "",
     "nuid": "1d760df1-62f3-47a5-a624-d63068bbba65",
     "typedWidgetInfo": {
      "autoCreated": false,
      "defaultValue": "",
      "label": "04 Database Server Host",
      "name": "host",
      "options": {
       "widgetDisplayType": "Text",
       "validationRegex": null
      },
      "parameterDataType": "String"
     },
     "widgetInfo": {
      "widgetType": "text",
      "defaultValue": "",
      "label": "04 Database Server Host",
      "name": "host",
      "options": {
       "widgetType": "text",
       "autoCreated": false,
       "validationRegex": null
      }
     }
    },
    "schema": {
     "currentValue": "default",
     "nuid": "095381f2-a0f1-4414-b90b-2ac3914df599",
     "typedWidgetInfo": {
      "autoCreated": false,
      "defaultValue": "default",
      "label": "02 Schema",
      "name": "schema",
      "options": {
       "widgetDisplayType": "Text",
       "validationRegex": null
      },
      "parameterDataType": "String"
     },
     "widgetInfo": {
      "widgetType": "text",
      "defaultValue": "default",
      "label": "02 Schema",
      "name": "schema",
      "options": {
       "widgetType": "text",
       "autoCreated": false,
       "validationRegex": null
      }
     }
    },
    "secret_scope_name": {
     "currentValue": "",
     "nuid": "341748b3-318e-4304-80f6-544d67d082f7",
     "typedWidgetInfo": {
      "autoCreated": false,
      "defaultValue": "",
      "label": "06 Secret Scope Name",
      "name": "secret_scope_name",
      "options": {
       "widgetDisplayType": "Text",
       "validationRegex": null
      },
      "parameterDataType": "String"
     },
     "widgetInfo": {
      "widgetType": "text",
      "defaultValue": "",
      "label": "06 Secret Scope Name",
      "name": "secret_scope_name",
      "options": {
       "widgetType": "text",
       "autoCreated": false,
       "validationRegex": null
      }
     }
    },
    "src_table": {
     "currentValue": "lakefed_src",
     "nuid": "6ff15c9d-4d51-466c-be94-a214eaa7fbe0",
     "typedWidgetInfo": {
      "autoCreated": false,
      "defaultValue": "lakefed_src",
      "label": "03 Source Table",
      "name": "src_table",
      "options": {
       "widgetDisplayType": "Text",
       "validationRegex": null
      },
      "parameterDataType": "String"
     },
     "widgetInfo": {
      "widgetType": "text",
      "defaultValue": "lakefed_src",
      "label": "03 Source Table",
      "name": "src_table",
      "options": {
       "widgetType": "text",
       "autoCreated": false,
       "validationRegex": null
      }
     }
    }
   }
  },
  "language_info": {
   "name": "python"
  }
 },
 "nbformat": 4,
 "nbformat_minor": 0
}