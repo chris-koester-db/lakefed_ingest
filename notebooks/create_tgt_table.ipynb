{
 "cells": [
  {
   "cell_type": "code",
   "execution_count": null,
   "metadata": {
    "application/vnd.databricks.v1+cell": {
     "cellMetadata": {
      "byteLimit": 2048000,
      "rowLimit": 10000
     },
     "inputWidgets": {},
     "nuid": "576410b5-873a-42ef-b3c2-7887dcf36cba",
     "showTitle": false,
     "title": ""
    }
   },
   "outputs": [],
   "source": [
    "dbutils.widgets.text('catalog', '', '01 Catalog')\n",
    "dbutils.widgets.text('schema', '', '02 Schema')\n",
    "dbutils.widgets.text('tgt_table', 'partitioned_queries_tgt', '03 Target Table')\n",
    "dbutils.widgets.text('partition_col', '', '04 Partition Column')\n",
    "dbutils.widgets.text('root_dir', '', '05 Root directory for project files')\n",
    "dbutils.widgets.text('tgt_ddl_file_path', '', '06 Create target DDL file path')"
   ]
  },
  {
   "cell_type": "code",
   "execution_count": null,
   "metadata": {},
   "outputs": [],
   "source": [
    "from lakefed_ingest.main import *"
   ]
  },
  {
   "cell_type": "code",
   "execution_count": null,
   "metadata": {
    "application/vnd.databricks.v1+cell": {
     "cellMetadata": {
      "byteLimit": 2048000,
      "rowLimit": 10000
     },
     "inputWidgets": {},
     "nuid": "2357b38e-5f3e-4477-b84d-776773c8bd0d",
     "showTitle": false,
     "title": ""
    }
   },
   "outputs": [],
   "source": [
    "catalog = dbutils.widgets.get('catalog')\n",
    "schema = dbutils.widgets.get('schema')\n",
    "tgt_table = dbutils.widgets.get('tgt_table')\n",
    "partition_col = dbutils.widgets.get('partition_col')\n",
    "root_dir = dbutils.widgets.get('root_dir')\n",
    "file_path = dbutils.widgets.get('tgt_ddl_file_path')"
   ]
  },
  {
   "cell_type": "code",
   "execution_count": null,
   "metadata": {},
   "outputs": [],
   "source": [
    "sql_ddl = get_sql_ddl(\n",
    "    catalog=catalog,\n",
    "    schema=schema,\n",
    "    table=tgt_table,\n",
    "    cluster_col=partition_col,\n",
    "    root_dir=root_dir,\n",
    "    file_path=file_path,\n",
    ")\n",
    "\n",
    "print(f'Create target table DDL statement:\\n{sql_ddl}')"
   ]
  },
  {
   "cell_type": "code",
   "execution_count": null,
   "metadata": {
    "application/vnd.databricks.v1+cell": {
     "cellMetadata": {
      "byteLimit": 2048000,
      "rowLimit": 10000
     },
     "inputWidgets": {},
     "nuid": "c781e187-bf96-48c2-b348-9d77bb88352b",
     "showTitle": true,
     "title": "Create Target Table"
    }
   },
   "outputs": [],
   "source": [
    "display(spark.sql(sql_ddl))"
   ]
  }
 ],
 "metadata": {
  "application/vnd.databricks.v1+notebook": {
   "dashboards": [],
   "environmentMetadata": null,
   "language": "python",
   "notebookMetadata": {
    "mostRecentlyExecutedCommandWithImplicitDF": {
     "commandId": 4165620575668529,
     "dataframes": [
      "_sqldf"
     ]
    },
    "pythonIndentUnit": 4
   },
   "notebookName": "generate_query_list",
   "widgets": {
    "catalog": {
     "currentValue": "main",
     "nuid": "2a34baa6-9264-4a42-b423-b90a6417c553",
     "typedWidgetInfo": null,
     "widgetInfo": {
      "defaultValue": "main",
      "label": "01 Catalog",
      "name": "catalog",
      "options": {
       "autoCreated": null,
       "validationRegex": null,
       "widgetType": "text"
      },
      "widgetType": "text"
     }
    },
    "min_parallelism": {
     "currentValue": "16",
     "nuid": "f0c7cb4a-928e-442e-87b6-879b226d5f18",
     "typedWidgetInfo": null,
     "widgetInfo": {
      "defaultValue": "2",
      "label": "04 Minimum Parallelism",
      "name": "min_parallelism",
      "options": {
       "autoCreated": null,
       "validationRegex": null,
       "widgetType": "text"
      },
      "widgetType": "text"
     }
    },
    "schema": {
     "currentValue": "chris_koester",
     "nuid": "d41403a7-6f8f-41b5-ae98-22722eace796",
     "typedWidgetInfo": null,
     "widgetInfo": {
      "defaultValue": "chris_koester",
      "label": "02 Schema",
      "name": "schema",
      "options": {
       "autoCreated": null,
       "validationRegex": null,
       "widgetType": "text"
      },
      "widgetType": "text"
     }
    },
    "table": {
     "currentValue": "partitioned_queries_src",
     "nuid": "49231420-c367-4cc5-809a-2eb740dba4da",
     "typedWidgetInfo": null,
     "widgetInfo": {
      "defaultValue": "partitioned_queries_src",
      "label": "03 Table",
      "name": "table",
      "options": {
       "autoCreated": null,
       "validationRegex": null,
       "widgetType": "text"
      },
      "widgetType": "text"
     }
    }
   }
  },
  "kernelspec": {
   "display_name": ".venv",
   "language": "python",
   "name": "python3"
  },
  "language_info": {
   "codemirror_mode": {
    "name": "ipython",
    "version": 3
   },
   "file_extension": ".py",
   "mimetype": "text/x-python",
   "name": "python",
   "nbconvert_exporter": "python",
   "pygments_lexer": "ipython3",
   "version": "3.12.5"
  }
 },
 "nbformat": 4,
 "nbformat_minor": 0
}
