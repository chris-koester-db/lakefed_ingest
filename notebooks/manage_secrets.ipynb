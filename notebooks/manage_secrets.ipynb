{
 "cells": [
  {
   "cell_type": "markdown",
   "metadata": {},
   "source": [
    "## Manage Secrets\n",
    "Databricks recommends using [secrets](https://learn.microsoft.com/en-us/azure/databricks/security/secrets/) to store your database credentials.\n",
    "\n",
    "This notebook shows how to manage secrets using the [Databricks SDK for Python](https://docs.databricks.com/en/dev-tools/sdk-python.html)."
   ]
  },
  {
   "cell_type": "code",
   "execution_count": null,
   "metadata": {
    "application/vnd.databricks.v1+cell": {
     "cellMetadata": {
      "byteLimit": 2048000,
      "rowLimit": 10000
     },
     "inputWidgets": {},
     "nuid": "b063561b-8d6b-45c2-a19b-61853bb3a188",
     "showTitle": false,
     "title": ""
    },
    "jupyter": {
     "outputs_hidden": true
    }
   },
   "outputs": [],
   "source": [
    "%pip install databricks-sdk==0.46.0 --upgrade"
   ]
  },
  {
   "cell_type": "code",
   "execution_count": null,
   "metadata": {
    "application/vnd.databricks.v1+cell": {
     "cellMetadata": {
      "byteLimit": 2048000,
      "rowLimit": 10000
     },
     "inputWidgets": {},
     "nuid": "864c97bd-922d-4e56-a881-321b0d9967d0",
     "showTitle": false,
     "title": ""
    }
   },
   "outputs": [],
   "source": [
    "dbutils.library.restartPython()"
   ]
  },
  {
   "cell_type": "code",
   "execution_count": null,
   "metadata": {
    "application/vnd.databricks.v1+cell": {
     "cellMetadata": {
      "byteLimit": 2048000,
      "rowLimit": 10000
     },
     "inputWidgets": {},
     "nuid": "e6b92443-a699-4404-a732-068d42b5df76",
     "showTitle": true,
     "title": "Set Variables"
    }
   },
   "outputs": [],
   "source": [
    "scope = \"secret_scope_name\"\n",
    "secrets = [\n",
    "    {\"key\": \"jdbc_user\", \"string_value\": \"<your_jdbc_user>\"},\n",
    "    {\"key\": \"jdbc_pwd\", \"string_value\": \"<your_jdbc_pwd\"},\n",
    "]"
   ]
  },
  {
   "cell_type": "code",
   "execution_count": null,
   "metadata": {
    "application/vnd.databricks.v1+cell": {
     "cellMetadata": {
      "byteLimit": 2048000,
      "rowLimit": 10000
     },
     "inputWidgets": {},
     "nuid": "4d72fc8b-ff12-4ad5-ac11-68ed51e2c0ab",
     "showTitle": true,
     "title": "Create Secret Scope"
    }
   },
   "outputs": [],
   "source": [
    "from databricks.sdk import WorkspaceClient\n",
    "from databricks.sdk.errors import ResourceDoesNotExist\n",
    "\n",
    "w = WorkspaceClient()\n",
    "\n",
    "def scope_exists(scope):\n",
    "    scope_list = w.secrets.list_scopes()\n",
    "    for i in scope_list:\n",
    "        if i.name == scope:\n",
    "            return True\n",
    "            break\n",
    "        \n",
    "if scope_exists(scope):\n",
    "    print(f'Secret scope {scope} exists')\n",
    "else:\n",
    "    w.secrets.create_scope(scope)\n",
    "    print(f'Created secret scope {scope}')"
   ]
  },
  {
   "cell_type": "code",
   "execution_count": null,
   "metadata": {
    "application/vnd.databricks.v1+cell": {
     "cellMetadata": {
      "byteLimit": 2048000,
      "rowLimit": 10000
     },
     "inputWidgets": {},
     "nuid": "255cc3fe-8478-4860-8e80-e9702e52ec07",
     "showTitle": true,
     "title": "Add Secret"
    }
   },
   "outputs": [],
   "source": [
    "for i in secrets:\n",
    "    w.secrets.put_secret(scope=scope, **i)\n",
    "    print(f\"Added or replaced secret '{i['key']}' in scope '{scope}'\")"
   ]
  },
  {
   "cell_type": "code",
   "execution_count": null,
   "metadata": {
    "application/vnd.databricks.v1+cell": {
     "cellMetadata": {
      "byteLimit": 2048000,
      "rowLimit": 10000
     },
     "inputWidgets": {},
     "nuid": "cff318a9-3ac7-4135-8a8b-0720b0a9b92b",
     "showTitle": true,
     "title": "Delete Secret"
    }
   },
   "outputs": [],
   "source": [
    "delete_secret = False\n",
    "\n",
    "if delete_secret:\n",
    "    try:\n",
    "        w.secrets.delete_secret(scope=scope, key=secret['key'])\n",
    "        print(f\"Deleted secret '{secret['key']}' in scope '{scope}'\")\n",
    "    except ResourceDoesNotExist as e:\n",
    "        print(e)"
   ]
  },
  {
   "cell_type": "code",
   "execution_count": null,
   "metadata": {
    "application/vnd.databricks.v1+cell": {
     "cellMetadata": {
      "byteLimit": 2048000,
      "rowLimit": 10000
     },
     "inputWidgets": {},
     "nuid": "6410ce35-2da8-4ac6-ac43-35e51f8f949f",
     "showTitle": true,
     "title": "Get Secret"
    }
   },
   "outputs": [],
   "source": [
    "jdbc_user = dbutils.secrets.get(scope, 'jdbc_user')"
   ]
  }
 ],
 "metadata": {
  "application/vnd.databricks.v1+notebook": {
   "dashboards": [],
   "environmentMetadata": {
    "base_environment": "",
    "client": "1"
   },
   "language": "python",
   "notebookMetadata": {
    "mostRecentlyExecutedCommandWithImplicitDF": {
     "commandId": -1,
     "dataframes": [
      "_sqldf"
     ]
    },
    "pythonIndentUnit": 4
   },
   "notebookName": "manage_secrets",
   "widgets": {}
  },
  "language_info": {
   "name": "python"
  }
 },
 "nbformat": 4,
 "nbformat_minor": 0
}
