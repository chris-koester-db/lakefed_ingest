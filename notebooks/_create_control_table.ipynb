{
 "cells": [
  {
   "cell_type": "code",
   "execution_count": 0,
   "metadata": {
    "application/vnd.databricks.v1+cell": {
     "cellMetadata": {
      "byteLimit": 2048000,
      "rowLimit": 10000
     },
     "inputWidgets": {},
     "nuid": "05d63317-6929-44ed-a5b6-7097a9a265b5",
     "showTitle": true,
     "tableResultSettingsMap": {},
     "title": "Create Control Table"
    }
   },
   "outputs": [
    {
     "data": {
      "text/html": [
       "<style scoped>\n",
       "  .table-result-container {\n",
       "    max-height: 300px;\n",
       "    overflow: auto;\n",
       "  }\n",
       "  table, th, td {\n",
       "    border: 1px solid black;\n",
       "    border-collapse: collapse;\n",
       "  }\n",
       "  th, td {\n",
       "    padding: 5px;\n",
       "  }\n",
       "  th {\n",
       "    text-align: left;\n",
       "  }\n",
       "</style><div class='table-result-container'><table class='table-result'><thead style='background-color: white'><tr></tr></thead><tbody></tbody></table></div>"
      ]
     },
     "metadata": {
      "application/vnd.databricks.v1+output": {
       "addedWidgets": {},
       "aggData": [],
       "aggError": "",
       "aggOverflow": false,
       "aggSchema": [],
       "aggSeriesLimitReached": false,
       "aggType": "",
       "arguments": {},
       "columnCustomDisplayInfos": {},
       "data": [],
       "datasetInfos": [],
       "dbfsResultPath": null,
       "isJsonSchema": true,
       "metadata": {},
       "overflow": false,
       "plotOptions": {
        "customPlotOptions": {},
        "displayType": "table",
        "pivotAggregation": null,
        "pivotColumns": null,
        "xColumns": null,
        "yColumns": null
       },
       "removedWidgets": [],
       "schema": [],
       "type": "table"
      }
     },
     "output_type": "display_data"
    }
   ],
   "source": [
    "use catalog identifier(:catalog);\n",
    "use schema identifier(:schema);\n",
    "\n",
    "create table if not exists identifier(:table) (\n",
    "  id bigint generated always as identity,\n",
    "  job_name string not null comment 'Name of the job used to run the task.',\n",
    "  task_collection string not null comment 'Used to group tasks into collections.',\n",
    "  src_type string comment 'Source database type.',\n",
    "  src_catalog string not null comment 'Name of the source catalog',\n",
    "  src_schema string not null comment 'Name of the source schema.',\n",
    "  src_table string not null comment 'Name of the source table.',\n",
    "  sink_catalog string not null comment 'Name of the sink catalog',\n",
    "  sink_schema string not null comment 'Name of the sink schema.',\n",
    "  sink_table string not null comment 'Name of the sink table.',\n",
    "  sink_cluster_cols array<string> comment 'Array of columns used for Liquid Clustering',\n",
    "  load_type string not null comment 'Specified is load is full or incremental.',\n",
    "  load_partitioned boolean comment 'Specifies if load is partitioned or not.',\n",
    "  select_list string not null comment 'List of columns or expressions used to select data from the source.',\n",
    "  watermark_col_name string comment 'Name of the column used to track incremental loads.',\n",
    "  watermark_col_type string comment 'Data type of the column used to track incremental loads.',\n",
    "  watermark_col_start_value string comment 'Watermark starting value for incremental loads.',\n",
    "  partition_col string comment 'Name of column used for performing partitioned loads.',\n",
    "  partition_size_mb int comment 'Individual partition size in MB for partitioned loads (E.g., 256, 512).',\n",
    "  task_enabled boolean not null comment 'Flag used to enable or disable the task.'\n",
    ");\n",
    "\n",
    "alter table identifier(:table) drop constraint if exists valid_load_type;\n",
    "alter table identifier(:table) add constraint valid_load_type check (load_type in ('full', 'incremental'));\n",
    "\n",
    "alter table identifier(:table) drop constraint if exists valid_src_type;\n",
    "alter table identifier(:table) add constraint valid_src_type check (src_type in ('sqlserver', 'oracle', 'postgresql', 'redshift', 'synapse', 'delta'));"
   ]
  }
 ],
 "metadata": {
  "application/vnd.databricks.v1+notebook": {
   "computePreferences": null,
   "dashboards": [],
   "environmentMetadata": null,
   "inputWidgetPreferences": null,
   "language": "sql",
   "notebookMetadata": {},
   "notebookName": "config_metadata_tpcds",
   "widgets": {
    "catalog": {
     "currentValue": "lakefed_ingest",
     "nuid": "afad7900-cc45-4ad9-af7e-f6e4631270b4",
     "typedWidgetInfo": {
      "autoCreated": false,
      "defaultValue": "lakefed_ingest",
      "label": "",
      "name": "catalog",
      "options": {
       "validationRegex": null,
       "widgetDisplayType": "Text"
      },
      "parameterDataType": "String"
     },
     "widgetInfo": {
      "defaultValue": "lakefed_ingest",
      "label": "",
      "name": "catalog",
      "options": {
       "autoCreated": false,
       "validationRegex": null,
       "widgetType": "text"
      },
      "widgetType": "text"
     }
    },
    "schema": {
     "currentValue": "default",
     "nuid": "56b300ff-0480-44b2-85f1-e4d722e21ffe",
     "typedWidgetInfo": {
      "autoCreated": false,
      "defaultValue": "default",
      "label": "",
      "name": "schema",
      "options": {
       "validationRegex": null,
       "widgetDisplayType": "Text"
      },
      "parameterDataType": "String"
     },
     "widgetInfo": {
      "defaultValue": "default",
      "label": "",
      "name": "schema",
      "options": {
       "autoCreated": false,
       "validationRegex": null,
       "widgetType": "text"
      },
      "widgetType": "text"
     }
    },
    "table": {
     "currentValue": "control",
     "nuid": "4c818e34-b32e-48f2-b6de-bb9c82d3839d",
     "typedWidgetInfo": {
      "autoCreated": false,
      "defaultValue": "control",
      "label": "",
      "name": "table",
      "options": {
       "validationRegex": null,
       "widgetDisplayType": "Text"
      },
      "parameterDataType": "String"
     },
     "widgetInfo": {
      "defaultValue": "control",
      "label": "",
      "name": "table",
      "options": {
       "autoCreated": false,
       "validationRegex": null,
       "widgetType": "text"
      },
      "widgetType": "text"
     }
    }
   }
  },
  "language_info": {
   "name": "sql"
  }
 },
 "nbformat": 4,
 "nbformat_minor": 0
}
