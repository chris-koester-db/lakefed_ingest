{
 "cells": [
  {
   "cell_type": "code",
   "execution_count": null,
   "metadata": {
    "application/vnd.databricks.v1+cell": {
     "cellMetadata": {
      "byteLimit": 2048000,
      "rowLimit": 10000
     },
     "inputWidgets": {},
     "nuid": "c5378512-dfd7-4dbd-90af-bfb07c370edf",
     "showTitle": false,
     "title": ""
    }
   },
   "outputs": [],
   "source": [
    "dbutils.widgets.text('src_catalog', '', '01 Source Catalog')\n",
    "dbutils.widgets.text('src_schema', '', '02 Source Schema')\n",
    "dbutils.widgets.text('src_table', '', '03 Source Table')\n",
    "dbutils.widgets.text('tgt_catalog', '', '05 Target Catalog')\n",
    "dbutils.widgets.text('tgt_schema', '', '06 Target Schema')\n",
    "dbutils.widgets.text('tgt_table', '', '07 Target Table')\n",
    "dbutils.widgets.text('where_clause', '', '08 Where Clause')"
   ]
  },
  {
   "cell_type": "code",
   "execution_count": null,
   "metadata": {},
   "outputs": [],
   "source": [
    "from lakefed_ingest.main import *"
   ]
  },
  {
   "cell_type": "code",
   "execution_count": null,
   "metadata": {},
   "outputs": [],
   "source": [
    "src_catalog = dbutils.widgets.get('src_catalog')\n",
    "src_schema = dbutils.widgets.get('src_schema')\n",
    "src_table = dbutils.widgets.get('src_table')\n",
    "tgt_catalog = dbutils.widgets.get('tgt_catalog')\n",
    "tgt_schema = dbutils.widgets.get('tgt_schema')\n",
    "tgt_table = dbutils.widgets.get('tgt_table')\n",
    "where_clause = dbutils.widgets.get('where_clause')"
   ]
  },
  {
   "cell_type": "code",
   "execution_count": null,
   "metadata": {
    "application/vnd.databricks.v1+cell": {
     "cellMetadata": {
      "byteLimit": 2048000,
      "rowLimit": 10000
     },
     "inputWidgets": {},
     "nuid": "2805a02f-4590-4fd5-86ff-4b55bf5f63e1",
     "showTitle": false,
     "title": ""
    }
   },
   "outputs": [],
   "source": [
    "# Build sql statement\n",
    "# fetchsize requires Databricks Runtime 16.1 or above. SQL warehouses must be Pro or Serverless and must use 2024.50.\n",
    "# https://docs.databricks.com/aws/en/query-federation/performance-recommendations\n",
    "qry = f\"\"\"\\\n",
    "    insert into {tgt_catalog}.{tgt_schema}.{tgt_table}\n",
    "    select * from {src_catalog}.{src_schema}.{src_table} with ('fetchsize' 100000)\n",
    "    where {where_clause}\n",
    "\"\"\"\n",
    "\n",
    "print(f'Query:\\n{textwrap.dedent(qry)}')\n",
    "\n",
    "display(spark.sql(qry))"
   ]
  }
 ],
 "metadata": {
  "application/vnd.databricks.v1+notebook": {
   "dashboards": [],
   "environmentMetadata": null,
   "language": "python",
   "notebookMetadata": {
    "pythonIndentUnit": 2
   },
   "notebookName": "run_query_py",
   "widgets": {
    "src_query": {
     "currentValue": "select * from main.chris_koester.partition_queries_test where id >= 746222 and id < 761451",
     "nuid": "624bb1d2-3102-4c06-8cdf-65c2a8936e31",
     "typedWidgetInfo": null,
     "widgetInfo": {
      "defaultValue": "",
      "label": "src_query",
      "name": "src_query",
      "options": {
       "autoCreated": null,
       "validationRegex": null,
       "widgetType": "text"
      },
      "widgetType": "text"
     }
    }
   }
  },
  "language_info": {
   "name": "python"
  }
 },
 "nbformat": 4,
 "nbformat_minor": 0
}
