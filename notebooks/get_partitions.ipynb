{
 "cells": [
  {
   "cell_type": "code",
   "execution_count": null,
   "metadata": {
    "application/vnd.databricks.v1+cell": {
     "cellMetadata": {
      "byteLimit": 2048000,
      "rowLimit": 10000
     },
     "inputWidgets": {},
     "nuid": "576410b5-873a-42ef-b3c2-7887dcf36cba",
     "showTitle": false,
     "title": ""
    }
   },
   "outputs": [],
   "source": [
    "dbutils.widgets.text('src_catalog', '', '01 Source Catalog')\n",
    "dbutils.widgets.text('src_schema', '', '02 Source Schema')\n",
    "dbutils.widgets.text('src_table', '', '03 Source Table')\n",
    "dbutils.widgets.text('batch_id', '', '04 Batch ID')\n",
    "dbutils.widgets.text('tgt_catalog', '', '05 Target Catalog')\n",
    "dbutils.widgets.text('tgt_schema', '', '06 Target Schema')\n",
    "dbutils.widgets.text('tgt_table', '', '07 Target Table')"
   ]
  },
  {
   "cell_type": "code",
   "execution_count": null,
   "metadata": {
    "application/vnd.databricks.v1+cell": {
     "cellMetadata": {},
     "inputWidgets": {},
     "nuid": "45ab3641-09f0-476e-9c1b-1e69957ee78c",
     "showTitle": false,
     "title": ""
    }
   },
   "outputs": [],
   "source": [
    "from lakefed_ingest.main import *"
   ]
  },
  {
   "cell_type": "code",
   "execution_count": null,
   "metadata": {
    "application/vnd.databricks.v1+cell": {
     "cellMetadata": {
      "byteLimit": 2048000,
      "rowLimit": 10000
     },
     "inputWidgets": {},
     "nuid": "2357b38e-5f3e-4477-b84d-776773c8bd0d",
     "showTitle": false,
     "title": ""
    }
   },
   "outputs": [],
   "source": [
    "src_catalog = dbutils.widgets.get('src_catalog')\n",
    "src_schema = dbutils.widgets.get('src_schema')\n",
    "src_table = dbutils.widgets.get('src_table')\n",
    "batch_id = int(dbutils.widgets.get('batch_id'))\n",
    "tgt_catalog = dbutils.widgets.get('tgt_catalog')\n",
    "tgt_schema = dbutils.widgets.get('tgt_schema')\n",
    "tgt_table = dbutils.widgets.get('tgt_table')"
   ]
  },
  {
   "cell_type": "code",
   "execution_count": null,
   "metadata": {},
   "outputs": [],
   "source": [
    "print(f'Batch id: {batch_id}')\n",
    "\n",
    "# TODO set partitions table suffix at job level\n",
    "partitions_tbl = f'{tgt_catalog}.{tgt_schema}.{tgt_table}_partitions'\n",
    "\n",
    "batch_of_partitions_qry = f\"\"\"\\\n",
    "    select array_agg(where_clause)\n",
    "    from {partitions_tbl}\n",
    "    where batch_id = {batch_id}\n",
    "\"\"\"\n",
    "\n",
    "batch_of_partitions = spark.sql(batch_of_partitions_qry).collect()[0][0]\n",
    "\n",
    "print(f'Batch size: {len(batch_of_partitions)}')\n",
    "\n",
    "# Assign batch list to job task value. The list can be iterated in a subsequent task.\n",
    "dbutils.jobs.taskValues.set(key=\"batch_of_partitions\", value=batch_of_partitions)"
   ]
  }
 ],
 "metadata": {
  "application/vnd.databricks.v1+notebook": {
   "dashboards": [],
   "environmentMetadata": null,
   "language": "python",
   "notebookMetadata": {
    "mostRecentlyExecutedCommandWithImplicitDF": {
     "commandId": 4165620575668529,
     "dataframes": [
      "_sqldf"
     ]
    },
    "pythonIndentUnit": 4
   },
   "notebookName": "get_query_list",
   "widgets": {}
  },
  "kernelspec": {
   "display_name": ".venv",
   "language": "python",
   "name": "python3"
  },
  "language_info": {
   "codemirror_mode": {
    "name": "ipython",
    "version": 3
   },
   "file_extension": ".py",
   "mimetype": "text/x-python",
   "name": "python",
   "nbconvert_exporter": "python",
   "pygments_lexer": "ipython3",
   "version": "3.12.3"
  }
 },
 "nbformat": 4,
 "nbformat_minor": 0
}
