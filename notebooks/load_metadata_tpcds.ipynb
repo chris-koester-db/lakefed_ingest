{
 "cells": [
  {
   "cell_type": "markdown",
   "metadata": {
    "application/vnd.databricks.v1+cell": {
     "cellMetadata": {
      "byteLimit": 2048000,
      "rowLimit": 10000
     },
     "inputWidgets": {},
     "nuid": "1841e07b-d30a-4e77-a511-28376c365b1b",
     "showTitle": false,
     "tableResultSettingsMap": {},
     "title": ""
    }
   },
   "source": [
    "## Load Metadata - TPCDS\n",
    "- Prepare metadata and merge into the control table\n",
    "- Clone notebook for each source schema"
   ]
  },
  {
   "cell_type": "code",
   "execution_count": 0,
   "metadata": {
    "application/vnd.databricks.v1+cell": {
     "cellMetadata": {
      "byteLimit": 2048000,
      "rowLimit": 10000
     },
     "inputWidgets": {},
     "nuid": "b0440ec6-c1c6-4bf3-97c0-78f1d410b189",
     "showTitle": false,
     "tableResultSettingsMap": {},
     "title": ""
    }
   },
   "outputs": [],
   "source": [
    "-- Create temporary view containing table specific metadata\n",
    "-- This will be joined with data from information_schema\n",
    "\n",
    "create or replace temp view table_details as\n",
    "select\n",
    "  col1 as table,\n",
    "  if(col2 = \"y\", true, false) as load_partitioned,\n",
    "  split(col3, ',') as cluster_cols\n",
    "FROM\n",
    "  (\n",
    "    VALUES\n",
    "      (\"catalog_returns\", \"y\", \"cr_returned_date_sk\"),\n",
    "      (\"catalog_sales\",   \"y\", \"cs_sold_date_sk\"),\n",
    "      (\"inventory\",       \"y\", \"inv_date_sk\"),\n",
    "      (\"store_returns\",   \"y\", \"sr_returned_date_sk\"),\n",
    "      (\"store_sales\",     \"y\", \"ss_sold_date_sk\"),\n",
    "      (\"web_returns\",     \"y\", \"wr_returned_date_sk\"),\n",
    "      (\"web_sales\",       \"y\", \"ws_sold_date_sk\")\n",
    "  );"
   ]
  },
  {
   "cell_type": "code",
   "execution_count": 0,
   "metadata": {
    "application/vnd.databricks.v1+cell": {
     "cellMetadata": {
      "byteLimit": 2048000,
      "rowLimit": 10000
     },
     "inputWidgets": {},
     "nuid": "5cad679c-438b-42bc-ac57-7d7536687768",
     "showTitle": true,
     "tableResultSettingsMap": {},
     "title": "Create Metadata"
    }
   },
   "outputs": [],
   "source": [
    "use catalog identifier(:catalog);\n",
    "use schema identifier(:schema);\n",
    "\n",
    "create or replace temporary view control_src as\n",
    "select\n",
    "  'lakefed_ingest' as job_name,\n",
    "  'tpcds' as task_collection,\n",
    "  'delta' as src_type,\n",
    "  t.table_catalog as src_catalog,\n",
    "  t.table_schema as src_schema,\n",
    "  t.table_name as src_table,\n",
    "  'lakefed_ingest' as sink_catalog,\n",
    "  'tpcds_sf1000' as sink_schema,\n",
    "  t.table_name as sink_table,\n",
    "  coalesce(d.cluster_cols, array()) as sink_cluster_cols,\n",
    "  'full' as load_type,\n",
    "  coalesce(d.load_partitioned, false) as load_partitioned,\n",
    "  '*' as select_list,\n",
    "  null as watermark_col_name,\n",
    "  null as watermark_col_type,\n",
    "  null as watermark_col_start_value,\n",
    "  case when load_partitioned is true then element_at(cluster_cols, 1) else null end as partition_col,\n",
    "  case when load_partitioned is true then 256 else null end as partition_size_mb,\n",
    "  true as task_enabled\n",
    "from tpcds.information_schema.tables t\n",
    "left join table_details d\n",
    "on t.table_name = d.table\n",
    "where t.table_catalog = 'tpcds'\n",
    "  and t.table_schema = 'sf_1000_liquid';"
   ]
  },
  {
   "cell_type": "code",
   "execution_count": 0,
   "metadata": {
    "application/vnd.databricks.v1+cell": {
     "cellMetadata": {
      "byteLimit": 2048000,
      "rowLimit": 10000
     },
     "inputWidgets": {},
     "nuid": "0d76fe75-0923-4d8f-8bc8-6737ba7c730c",
     "showTitle": true,
     "tableResultSettingsMap": {},
     "title": "View Metadata"
    }
   },
   "outputs": [],
   "source": [
    "select * from control_src"
   ]
  },
  {
   "cell_type": "code",
   "execution_count": 0,
   "metadata": {
    "application/vnd.databricks.v1+cell": {
     "cellMetadata": {
      "byteLimit": 2048000,
      "rowLimit": 10000
     },
     "inputWidgets": {},
     "nuid": "f231f2bd-53dc-493c-84d3-023e9fb5dc8f",
     "showTitle": true,
     "tableResultSettingsMap": {},
     "title": "Merge into Control Table"
    }
   },
   "outputs": [],
   "source": [
    "merge with schema evolution into identifier(:table) as t\n",
    "using control_src as s\n",
    "on t.src_catalog = s.src_catalog\n",
    "and t.src_schema = s.src_schema\n",
    "and t.src_table = s.src_table\n",
    "when matched\n",
    "  then update set *\n",
    "when not matched\n",
    "  then insert *"
   ]
  }
 ],
 "metadata": {
  "application/vnd.databricks.v1+notebook": {
   "computePreferences": null,
   "dashboards": [],
   "environmentMetadata": null,
   "inputWidgetPreferences": null,
   "language": "sql",
   "notebookMetadata": {
    "pythonIndentUnit": 2
   },
   "notebookName": "load_metadata_tpcds",
   "widgets": {
    "catalog": {
     "currentValue": "lakefed_ingest",
     "nuid": "afad7900-cc45-4ad9-af7e-f6e4631270b4",
     "typedWidgetInfo": {
      "autoCreated": false,
      "defaultValue": "lakefed_ingest",
      "label": "",
      "name": "catalog",
      "options": {
       "widgetDisplayType": "Text",
       "validationRegex": null
      },
      "parameterDataType": "String"
     },
     "widgetInfo": {
      "widgetType": "text",
      "defaultValue": "lakefed_ingest",
      "label": "",
      "name": "catalog",
      "options": {
       "widgetType": "text",
       "autoCreated": false,
       "validationRegex": null
      }
     }
    },
    "schema": {
     "currentValue": "default",
     "nuid": "56b300ff-0480-44b2-85f1-e4d722e21ffe",
     "typedWidgetInfo": {
      "autoCreated": false,
      "defaultValue": "default",
      "label": "",
      "name": "schema",
      "options": {
       "widgetDisplayType": "Text",
       "validationRegex": null
      },
      "parameterDataType": "String"
     },
     "widgetInfo": {
      "widgetType": "text",
      "defaultValue": "default",
      "label": "",
      "name": "schema",
      "options": {
       "widgetType": "text",
       "autoCreated": false,
       "validationRegex": null
      }
     }
    },
    "src_catalog": {
     "currentValue": "tpcds",
     "nuid": "9d315a61-fe97-46e4-a94a-ec535e699cc4",
     "typedWidgetInfo": {
      "autoCreated": false,
      "defaultValue": "tpcds",
      "label": "",
      "name": "src_catalog",
      "options": {
       "widgetDisplayType": "Text",
       "validationRegex": null
      },
      "parameterDataType": "String"
     },
     "widgetInfo": {
      "widgetType": "text",
      "defaultValue": "tpcds",
      "label": "",
      "name": "src_catalog",
      "options": {
       "widgetType": "text",
       "autoCreated": false,
       "validationRegex": null
      }
     }
    },
    "src_schema": {
     "currentValue": "sf_1000_liquid",
     "nuid": "c1c41424-5e91-4835-9893-03c3a7fbddd0",
     "typedWidgetInfo": {
      "autoCreated": false,
      "defaultValue": "sf_1000_liquid",
      "label": "",
      "name": "src_schema",
      "options": {
       "widgetDisplayType": "Text",
       "validationRegex": null
      },
      "parameterDataType": "String"
     },
     "widgetInfo": {
      "widgetType": "text",
      "defaultValue": "sf_1000_liquid",
      "label": "",
      "name": "src_schema",
      "options": {
       "widgetType": "text",
       "autoCreated": false,
       "validationRegex": null
      }
     }
    },
    "table": {
     "currentValue": "control",
     "nuid": "4c818e34-b32e-48f2-b6de-bb9c82d3839d",
     "typedWidgetInfo": {
      "autoCreated": false,
      "defaultValue": "control",
      "label": "",
      "name": "table",
      "options": {
       "widgetDisplayType": "Text",
       "validationRegex": null
      },
      "parameterDataType": "String"
     },
     "widgetInfo": {
      "widgetType": "text",
      "defaultValue": "control",
      "label": "",
      "name": "table",
      "options": {
       "widgetType": "text",
       "autoCreated": false,
       "validationRegex": null
      }
     }
    }
   }
  },
  "language_info": {
   "name": "sql"
  }
 },
 "nbformat": 4,
 "nbformat_minor": 0
}
