{
 "cells": [
  {
   "cell_type": "markdown",
   "metadata": {
    "application/vnd.databricks.v1+cell": {
     "cellMetadata": {},
     "inputWidgets": {},
     "nuid": "1841e07b-d30a-4e77-a511-28376c365b1b",
     "showTitle": false,
     "tableResultSettingsMap": {},
     "title": ""
    }
   },
   "source": [
    "## Load Metadata - TPCDS\n",
    "- Prepare metadata and merge into the control table\n",
    "- Copies from Delta to Delta for integration testing"
   ]
  },
  {
   "cell_type": "code",
   "execution_count": 0,
   "metadata": {
    "application/vnd.databricks.v1+cell": {
     "cellMetadata": {
      "byteLimit": 2048000,
      "rowLimit": 10000
     },
     "inputWidgets": {},
     "nuid": "c1f77de2-5a27-4986-9a83-10b0b4fe833d",
     "showTitle": true,
     "tableResultSettingsMap": {},
     "title": "Get Table Sizes & Clustering Columns"
    }
   },
   "outputs": [],
   "source": [
    "%python\n",
    "catalog = dbutils.widgets.get('src_catalog')\n",
    "schema = dbutils.widgets.get('src_schema')\n",
    "\n",
    "spark.sql(f'use catalog {catalog}')\n",
    "\n",
    "table_list = [row.tableName for row in spark.sql(f\"SHOW TABLES IN {schema}\").collect()]\n",
    "\n",
    "results = []\n",
    "for table in table_list:\n",
    "    df = spark.sql(f\"DESCRIBE DETAIL {schema}.{table}\")\n",
    "    size = df.select(\"sizeInBytes\").collect()[0][0]\n",
    "    cluster_cols = df.select(\"clusteringColumns\").collect()[0][0]\n",
    "    results.append({\n",
    "        \"catalog\": catalog,\n",
    "        \"schema\": schema,\n",
    "        \"table\": table,\n",
    "        \"size_mb\": int(size / (1024 * 1024)),\n",
    "        \"cluster_cols\": cluster_cols\n",
    "    })\n",
    "\n",
    "spark.createDataFrame(results).createOrReplaceTempView('table_details')"
   ]
  },
  {
   "cell_type": "code",
   "execution_count": 0,
   "metadata": {
    "application/vnd.databricks.v1+cell": {
     "cellMetadata": {
      "byteLimit": 2048000,
      "rowLimit": 10000
     },
     "inputWidgets": {},
     "nuid": "5cad679c-438b-42bc-ac57-7d7536687768",
     "showTitle": true,
     "tableResultSettingsMap": {},
     "title": "Create Metadata"
    }
   },
   "outputs": [],
   "source": [
    "use catalog identifier(:catalog);\n",
    "use schema identifier(:schema);\n",
    "\n",
    "create or replace temporary view control_src as\n",
    "select\n",
    "  'lakefed_ingest' as job_name,\n",
    "  -- Partitioned loads can have a large number of queries\n",
    "  -- Use a unique task_collection name & run them sequentially to avoid excessive concurrency \n",
    "  case\n",
    "    when array_size(cluster_cols) > 0 then\n",
    "      concat('tpcds_', t.table_name)\n",
    "    else 'tpcds'\n",
    "  end as task_collection,\n",
    "  'delta' as src_type,\n",
    "  t.table_catalog as src_catalog,\n",
    "  t.table_schema as src_schema,\n",
    "  t.table_name as src_table,\n",
    "  'lakefed_ingest' as sink_catalog,\n",
    "  'tpcds_sf1000' as sink_schema,\n",
    "  t.table_name as sink_table,\n",
    "  d.cluster_cols as sink_cluster_cols,\n",
    "  'full' as load_type,\n",
    "  case when array_size(cluster_cols) > 0 then true else false end as load_partitioned,\n",
    "  '*' as select_list,\n",
    "  null as watermark_col_name,\n",
    "  null as watermark_col_type,\n",
    "  null as watermark_col_start_value,\n",
    "  case when load_partitioned is true then element_at(cluster_cols, 1) else null end as partition_col,\n",
    "  case when load_partitioned is true then 256 else null end as partition_size_mb,\n",
    "  true as task_enabled\n",
    "from tpcds.information_schema.tables t\n",
    "left join table_details d\n",
    "on t.table_name = d.table\n",
    "where t.table_schema = 'sf_1000_liquid'\n",
    "  and t.table_catalog = 'tpcds';"
   ]
  },
  {
   "cell_type": "code",
   "execution_count": 0,
   "metadata": {
    "application/vnd.databricks.v1+cell": {
     "cellMetadata": {
      "byteLimit": 2048000,
      "rowLimit": 10000
     },
     "inputWidgets": {},
     "nuid": "0d76fe75-0923-4d8f-8bc8-6737ba7c730c",
     "showTitle": true,
     "tableResultSettingsMap": {},
     "title": "View Metadata"
    }
   },
   "outputs": [],
   "source": [
    "select * from control_src"
   ]
  },
  {
   "cell_type": "code",
   "execution_count": 0,
   "metadata": {
    "application/vnd.databricks.v1+cell": {
     "cellMetadata": {
      "byteLimit": 2048000,
      "rowLimit": 10000
     },
     "inputWidgets": {},
     "nuid": "f231f2bd-53dc-493c-84d3-023e9fb5dc8f",
     "showTitle": true,
     "tableResultSettingsMap": {},
     "title": "Merge into Control Table"
    }
   },
   "outputs": [],
   "source": [
    "merge with schema evolution into identifier(:table) as t\n",
    "using control_src as s\n",
    "on t.src_catalog = s.src_catalog\n",
    "and t.src_schema = s.src_schema\n",
    "and t.src_table = s.src_table\n",
    "when matched\n",
    "  then update set *\n",
    "when not matched\n",
    "  then insert *"
   ]
  }
 ],
 "metadata": {
  "application/vnd.databricks.v1+notebook": {
   "computePreferences": null,
   "dashboards": [],
   "environmentMetadata": null,
   "inputWidgetPreferences": null,
   "language": "sql",
   "notebookMetadata": {
    "pythonIndentUnit": 2
   },
   "notebookName": "load_metadata_tpcds",
   "widgets": {
    "catalog": {
     "currentValue": "lakefed_ingest",
     "nuid": "afad7900-cc45-4ad9-af7e-f6e4631270b4",
     "typedWidgetInfo": {
      "autoCreated": false,
      "defaultValue": "lakefed_ingest",
      "label": "",
      "name": "catalog",
      "options": {
       "validationRegex": null,
       "widgetDisplayType": "Text"
      },
      "parameterDataType": "String"
     },
     "widgetInfo": {
      "defaultValue": "lakefed_ingest",
      "label": "",
      "name": "catalog",
      "options": {
       "autoCreated": false,
       "validationRegex": null,
       "widgetType": "text"
      },
      "widgetType": "text"
     }
    },
    "schema": {
     "currentValue": "default",
     "nuid": "56b300ff-0480-44b2-85f1-e4d722e21ffe",
     "typedWidgetInfo": {
      "autoCreated": false,
      "defaultValue": "default",
      "label": "",
      "name": "schema",
      "options": {
       "validationRegex": null,
       "widgetDisplayType": "Text"
      },
      "parameterDataType": "String"
     },
     "widgetInfo": {
      "defaultValue": "default",
      "label": "",
      "name": "schema",
      "options": {
       "autoCreated": false,
       "validationRegex": null,
       "widgetType": "text"
      },
      "widgetType": "text"
     }
    },
    "src_catalog": {
     "currentValue": "tpcds",
     "nuid": "9d315a61-fe97-46e4-a94a-ec535e699cc4",
     "typedWidgetInfo": {
      "autoCreated": false,
      "defaultValue": "tpcds",
      "label": "",
      "name": "src_catalog",
      "options": {
       "validationRegex": null,
       "widgetDisplayType": "Text"
      },
      "parameterDataType": "String"
     },
     "widgetInfo": {
      "defaultValue": "tpcds",
      "label": "",
      "name": "src_catalog",
      "options": {
       "autoCreated": false,
       "validationRegex": null,
       "widgetType": "text"
      },
      "widgetType": "text"
     }
    },
    "src_schema": {
     "currentValue": "sf_1000_liquid",
     "nuid": "c1c41424-5e91-4835-9893-03c3a7fbddd0",
     "typedWidgetInfo": {
      "autoCreated": false,
      "defaultValue": "sf_1000_liquid",
      "label": "",
      "name": "src_schema",
      "options": {
       "validationRegex": null,
       "widgetDisplayType": "Text"
      },
      "parameterDataType": "String"
     },
     "widgetInfo": {
      "defaultValue": "sf_1000_liquid",
      "label": "",
      "name": "src_schema",
      "options": {
       "autoCreated": false,
       "validationRegex": null,
       "widgetType": "text"
      },
      "widgetType": "text"
     }
    },
    "table": {
     "currentValue": "control",
     "nuid": "4c818e34-b32e-48f2-b6de-bb9c82d3839d",
     "typedWidgetInfo": {
      "autoCreated": false,
      "defaultValue": "control",
      "label": "",
      "name": "table",
      "options": {
       "validationRegex": null,
       "widgetDisplayType": "Text"
      },
      "parameterDataType": "String"
     },
     "widgetInfo": {
      "defaultValue": "control",
      "label": "",
      "name": "table",
      "options": {
       "autoCreated": false,
       "validationRegex": null,
       "widgetType": "text"
      },
      "widgetType": "text"
     }
    }
   }
  },
  "language_info": {
   "name": "sql"
  }
 },
 "nbformat": 4,
 "nbformat_minor": 0
}
