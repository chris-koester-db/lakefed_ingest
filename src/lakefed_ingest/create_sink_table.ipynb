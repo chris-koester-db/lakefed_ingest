{
 "cells": [
  {
   "cell_type": "code",
   "execution_count": 0,
   "metadata": {
    "application/vnd.databricks.v1+cell": {
     "cellMetadata": {},
     "inputWidgets": {},
     "nuid": "670af4b3-92ae-4498-932f-ab3aa6e936f9",
     "showTitle": false,
     "tableResultSettingsMap": {},
     "title": ""
    }
   },
   "outputs": [],
   "source": [
    "declare or replace qry_str string;\n",
    "\n",
    "create catalog if not exists identifier(:tgt_catalog);\n",
    "use catalog identifier(:tgt_catalog);\n",
    "create schema if not exists identifier(:tgt_schema);\n",
    "use schema identifier(:tgt_schema);\n",
    "\n",
    "-- Create sink table using schema inferred from foreign table\n",
    "set var qry_str = \n",
    "  \"create table if not exists \" || :tgt_table || \" as \"\n",
    "  \"select \" || :select_list || \" from \" || :src_catalog || '.' || :src_schema || '.' || :src_table || \" \"  \n",
    "  \"where 1 = 0\";\n",
    "\n",
    "execute immediate qry_str;"
   ]
  },
  {
   "cell_type": "code",
   "execution_count": 0,
   "metadata": {
    "application/vnd.databricks.v1+cell": {
     "cellMetadata": {},
     "inputWidgets": {},
     "nuid": "234ff50f-ff4e-49cc-9cd7-2dd381a49c92",
     "showTitle": false,
     "tableResultSettingsMap": {},
     "title": ""
    }
   },
   "outputs": [],
   "source": [
    "-- Enable liquid clustering if clustering columns are specified\n",
    "begin\n",
    "  declare qry_str string;\n",
    "\n",
    "  if :sink_cluster_cols != '' then\n",
    "    set qry_str = \n",
    "      \"alter table \" || :tgt_catalog || '.' || :tgt_schema || '.' || :tgt_table || \" cluster by (\" || :sink_cluster_cols || \")\";\n",
    "    execute immediate qry_str;\n",
    "  end if;\n",
    "end"
   ]
  }
 ],
 "metadata": {
  "application/vnd.databricks.v1+notebook": {
   "computePreferences": null,
   "dashboards": [],
   "environmentMetadata": {
    "base_environment": "",
    "environment_version": "2"
   },
   "inputWidgetPreferences": null,
   "language": "sql",
   "notebookMetadata": {},
   "notebookName": "create_sink_table",
   "widgets": {}
  },
  "language_info": {
   "name": "sql"
  }
 },
 "nbformat": 4,
 "nbformat_minor": 0
}
