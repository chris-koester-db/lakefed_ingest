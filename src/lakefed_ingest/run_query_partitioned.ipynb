{
 "cells": [
  {
   "cell_type": "code",
   "execution_count": 0,
   "metadata": {
    "application/vnd.databricks.v1+cell": {
     "cellMetadata": {
      "byteLimit": 2048000,
      "rowLimit": 10000
     },
     "inputWidgets": {},
     "nuid": "05d63317-6929-44ed-a5b6-7097a9a265b5",
     "showTitle": false,
     "tableResultSettingsMap": {},
     "title": ""
    }
   },
   "outputs": [],
   "source": [
    "declare or replace where_clause string;\n",
    "declare or replace qry_str string;\n",
    "\n",
    "-- Retrieve where clause from partitions table\n",
    "set var where_clause = (\n",
    "    select where_clause\n",
    "    from identifier(:tgt_catalog || '.' || :tgt_schema || '.' || :tgt_table || '_partitions')\n",
    "    where id = :task_id\n",
    ");\n",
    "\n",
    "-- Build query string using parameters and where_clause variable\n",
    "set var qry_str = \n",
    "    \"insert into identifier(:tgt_catalog || '.' || :tgt_schema || '.' || :tgt_table) \"\n",
    "    \"select * from identifier(:src_catalog || '.' || :src_schema || '.' || :src_table) with(fetchSize = 100000)\"\n",
    "    \"where \" || where_clause;\n",
    "\n",
    "execute immediate qry_str\n",
    "using (\n",
    "    :tgt_catalog AS tgt_catalog,\n",
    "    :tgt_schema AS tgt_schema,\n",
    "    :tgt_table AS tgt_table,\n",
    "    :src_catalog AS src_catalog,\n",
    "    :src_schema AS src_schema,\n",
    "    :src_table AS src_table\n",
    ");"
   ]
  }
 ],
 "metadata": {
  "application/vnd.databricks.v1+notebook": {
   "computePreferences": null,
   "dashboards": [],
   "environmentMetadata": null,
   "inputWidgetPreferences": null,
   "language": "sql",
   "notebookMetadata": {},
   "notebookName": "run_query",
   "widgets": {
    "src_catalog": {
     "currentValue": "lakefed_bulk_ingest_src",
     "nuid": "16550e43-9cac-466c-881b-b63bf83b204d",
     "typedWidgetInfo": {
      "autoCreated": false,
      "defaultValue": "lakefed_bulk_ingest_src",
      "label": "",
      "name": "src_catalog",
      "options": {
       "validationRegex": null,
       "widgetDisplayType": "Text"
      },
      "parameterDataType": "String"
     },
     "widgetInfo": {
      "defaultValue": "lakefed_bulk_ingest_src",
      "label": "",
      "name": "src_catalog",
      "options": {
       "autoCreated": false,
       "validationRegex": null,
       "widgetType": "text"
      },
      "widgetType": "text"
     }
    },
    "src_schema": {
     "currentValue": "public",
     "nuid": "14c27361-600b-4022-8c3e-5ccb3a12d35e",
     "typedWidgetInfo": {
      "autoCreated": false,
      "defaultValue": "public",
      "label": "",
      "name": "src_schema",
      "options": {
       "validationRegex": null,
       "widgetDisplayType": "Text"
      },
      "parameterDataType": "String"
     },
     "widgetInfo": {
      "defaultValue": "public",
      "label": "",
      "name": "src_schema",
      "options": {
       "autoCreated": false,
       "validationRegex": null,
       "widgetType": "text"
      },
      "widgetType": "text"
     }
    },
    "src_table": {
     "currentValue": "lakefed_src",
     "nuid": "5c2defdc-6cee-4268-a6b3-85f0ac057d87",
     "typedWidgetInfo": {
      "autoCreated": false,
      "defaultValue": "lakefed_src",
      "label": "",
      "name": "src_table",
      "options": {
       "validationRegex": null,
       "widgetDisplayType": "Text"
      },
      "parameterDataType": "String"
     },
     "widgetInfo": {
      "defaultValue": "lakefed_src",
      "label": "",
      "name": "src_table",
      "options": {
       "autoCreated": false,
       "validationRegex": null,
       "widgetType": "text"
      },
      "widgetType": "text"
     }
    },
    "task_id": {
     "currentValue": "0",
     "nuid": "f6d624b6-dc84-4948-87f5-8697610c0f08",
     "typedWidgetInfo": {
      "autoCreated": false,
      "defaultValue": "0",
      "label": "",
      "name": "task_id",
      "options": {
       "validationRegex": null,
       "widgetDisplayType": "Text"
      },
      "parameterDataType": "String"
     },
     "widgetInfo": {
      "defaultValue": "0",
      "label": "",
      "name": "task_id",
      "options": {
       "autoCreated": false,
       "validationRegex": null,
       "widgetType": "text"
      },
      "widgetType": "text"
     }
    },
    "tgt_catalog": {
     "currentValue": "lakefed_bulk_ingest",
     "nuid": "1c76fe80-4fb5-494a-94be-ddc36b14a319",
     "typedWidgetInfo": {
      "autoCreated": false,
      "defaultValue": "lakefed_bulk_ingest",
      "label": "",
      "name": "tgt_catalog",
      "options": {
       "validationRegex": null,
       "widgetDisplayType": "Text"
      },
      "parameterDataType": "String"
     },
     "widgetInfo": {
      "defaultValue": "lakefed_bulk_ingest",
      "label": "",
      "name": "tgt_catalog",
      "options": {
       "autoCreated": false,
       "validationRegex": null,
       "widgetType": "text"
      },
      "widgetType": "text"
     }
    },
    "tgt_schema": {
     "currentValue": "default",
     "nuid": "838c1759-bc0f-44b6-8226-2d469c9ed6dd",
     "typedWidgetInfo": {
      "autoCreated": false,
      "defaultValue": "default",
      "label": "",
      "name": "tgt_schema",
      "options": {
       "validationRegex": null,
       "widgetDisplayType": "Text"
      },
      "parameterDataType": "String"
     },
     "widgetInfo": {
      "defaultValue": "default",
      "label": "",
      "name": "tgt_schema",
      "options": {
       "autoCreated": false,
       "validationRegex": null,
       "widgetType": "text"
      },
      "widgetType": "text"
     }
    },
    "tgt_table": {
     "currentValue": "lakefed_tgt",
     "nuid": "df522810-3c04-40f8-90f6-5410b17fcb84",
     "typedWidgetInfo": {
      "autoCreated": false,
      "defaultValue": "lakefed_tgt",
      "label": "",
      "name": "tgt_table",
      "options": {
       "validationRegex": null,
       "widgetDisplayType": "Text"
      },
      "parameterDataType": "String"
     },
     "widgetInfo": {
      "defaultValue": "lakefed_tgt",
      "label": "",
      "name": "tgt_table",
      "options": {
       "autoCreated": false,
       "validationRegex": null,
       "widgetType": "text"
      },
      "widgetType": "text"
     }
    }
   }
  },
  "language_info": {
   "name": "sql"
  }
 },
 "nbformat": 4,
 "nbformat_minor": 0
}
