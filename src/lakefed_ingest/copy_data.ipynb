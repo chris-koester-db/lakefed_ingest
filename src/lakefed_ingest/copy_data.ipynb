{
 "cells": [
  {
   "cell_type": "code",
   "execution_count": 0,
   "metadata": {
    "application/vnd.databricks.v1+cell": {
     "cellMetadata": {},
     "inputWidgets": {},
     "nuid": "b0be246c-3aba-462a-964f-f035d9ca963c",
     "showTitle": false,
     "tableResultSettingsMap": {},
     "title": ""
    }
   },
   "outputs": [],
   "source": [
    "begin\n",
    "  declare qry_str string;\n",
    "\n",
    "  if :load_type == 'full' then\n",
    "    truncate table identifier(:sink_catalog || '.' || :sink_schema || '.' || :sink_table);\n",
    "  end if;\n",
    "  \n",
    "  -- Build query string\n",
    "  set qry_str = \n",
    "    \"insert into \" || :sink_catalog || '.' || :sink_schema || '.' || :sink_table || \" \"\n",
    "    \"select \" || :select_list || \" from \" || :src_catalog || '.' || :src_schema || '.' || :src_table || \" with(fetchSize = 100000) \";\n",
    "\n",
    "  -- Add where clause\n",
    "  if :load_type == 'incremental' then\n",
    "    if :watermark_col_type = 'timestamp' then\n",
    "      set qry_str = concat(qry_str, \" where \" || :watermark_col_name || \" > '\" || :watermark_col_start_value || \"' <= '\" || :watermark_col_end_value || \"'\");\n",
    "    else\n",
    "      set qry_str = concat(qry_str, \" where \" || :watermark_col_name || \" > \" || :watermark_col_start_value || \" <= \" || :watermark_col_end_value);\n",
    "    end if;\n",
    "  end if;\n",
    "  \n",
    "  execute immediate qry_str;\n",
    "  select qry_str;\n",
    "end"
   ]
  }
 ],
 "metadata": {
  "application/vnd.databricks.v1+notebook": {
   "computePreferences": null,
   "dashboards": [],
   "environmentMetadata": {
    "base_environment": "",
    "environment_version": "2"
   },
   "inputWidgetPreferences": null,
   "language": "sql",
   "notebookMetadata": {},
   "notebookName": "Untitled Notebook 2025-06-04 14:22:22",
   "widgets": {}
  },
  "language_info": {
   "name": "sql"
  }
 },
 "nbformat": 4,
 "nbformat_minor": 0
}
